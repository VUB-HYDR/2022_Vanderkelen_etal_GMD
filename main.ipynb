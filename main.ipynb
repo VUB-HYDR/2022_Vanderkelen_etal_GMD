{
 "cells": [
  {
   "cell_type": "markdown",
   "id": "6113350c-3b05-4480-b834-750a121e52af",
   "metadata": {},
   "source": [
    "# Notebook overview on data preprocessing, analysis and plotting in Vanderkelen et al. 2022 GMD"
   ]
  },
  {
   "cell_type": "markdown",
   "id": "391c03df-feee-4c2d-a1ff-3a42d824f589",
   "metadata": {},
   "source": [
    "## 1. Preprocessing "
   ]
  },
  {
   "cell_type": "markdown",
   "id": "c65d9032-9651-47c0-bd79-2112afe22764",
   "metadata": {},
   "source": [
    "### 1.1 Irrigation topology derivation\n",
    "\n",
    "- [irrigtopo_snake.ipynb](/analysis/irrigtopo_casestudy_snake/irrigtopo_snake.ipynb): Snake case study: derivation and plotting\n",
    "- [determine_irrigtopo_global.ipynb](/preprocessing/determine_irrigtopo_global.ipynb): derivation of global irrigation topology\n"
   ]
  },
  {
   "cell_type": "markdown",
   "id": "2fb1aa5e-35b4-4fba-92a0-bb3827d4b4bd",
   "metadata": {
    "jp-MarkdownHeadingCollapsed": true,
    "tags": []
   },
   "source": [
    "### 1.2 CTSM simulations\n",
    "\n",
    "- [setup_IHistClm50Sp_360x720cru_CTL.sh](preprocessing/setup_IHistClm50Sp_360x720cru_CTL.sh): script to set up CTSM simulation\n",
    "- [nl_clm_CTL.sh](preprocessing/nl_clm_CTL.sh): namelist file used in CTSM simulation"
   ]
  },
  {
   "cell_type": "markdown",
   "id": "8b3649bf-7a58-459f-9927-67b08dc15e46",
   "metadata": {
    "tags": []
   },
   "source": [
    "### 1.2 MizuRoute simulations\n",
    "in order of usage"
   ]
  },
  {
   "cell_type": "markdown",
   "id": "c363cd99-bd9e-4d7e-90f2-dd36911ca149",
   "metadata": {},
   "source": [
    "- [pp_clm_for_mizuroute.ipynb](preprocessing/pp_clm_for_mizuroute.ipynb): notebook processing CTSM output for MizuRoute including: (i) preparing irrigation water demands for irrigation topology (ii) merging and preparing runoff, evaporation and precip for mizuRoute input\n",
    "- [prepare_ntopo_HDMA_D03.ipynb](/preprocessing/prepare_ntopo_HDMA_D03.ipynb): prepare parameter topology for natural lake simulation with mizuRoute\n",
    "- [prepare_ntopo_nolake.ipynb](/preprocessing/prepare_ntopo_nolake.ipynb): prepare parameter topology for no lake simulation with mizuRoute\n",
    "- [pp_calc_inflowseasonality_natlake.ipynb](preprocessing/pp_calc_inflowseasonality_natlake.ipynb): notebook calculating inflow seasonality based on mizuRoute simulations with natural lakes,  (necessary as parameters for Hanasaki implementation)\n",
    "- [apply_irrigtopo_global.ipynb](/preprocessing/apply_irrigtopo_global.ipynb): application of global irrigation topology on observed seasonal irrigation demands\n",
    "- [prepare_ntopo_HDMA_H06.ipynb](/preprocessing/prepare_ntopo_HDMA_H06.ipynb): prepare parameter topology for Hanasaki simulation with mizuRoute\n"
   ]
  },
  {
   "cell_type": "markdown",
   "id": "0e04fa93-463d-4d75-a2f7-3fe325f9723a",
   "metadata": {},
   "source": [
    "## 2. Analysis and plotting"
   ]
  },
  {
   "cell_type": "markdown",
   "id": "d2750798-ea5a-4f7b-a90d-c39477d64c99",
   "metadata": {
    "tags": []
   },
   "source": [
    "### 2.1 Local mizuRoute simulations\n",
    "\n",
    "- [local_Hanasaki_resobs_plotting.ipynb](analysis/local_Hanasaki_resobs_plotting.ipynb): Analysis with local mizuRoute simulations"
   ]
  },
  {
   "cell_type": "markdown",
   "id": "dfc9667b-3b58-4a70-a7b0-0ecfa5c12094",
   "metadata": {
    "tags": []
   },
   "source": [
    "### 2.2 Global mizuRoute simulations\n",
    "#### 2.2.1 Evaluation using reservoir observations\n",
    "\n",
    "- [global_mizuRoute_Hanasaki_resobs.ipynb](analysis/global_mizuRoute_Hanasaki_resobs.ipynb): processing and plotting of global mizuRoute simulations compared to reservoir observations\n",
    "- [global_steyaert_evaluation_mizuRoute_Hanasaki.ipynb](analysis/global_steyaert_evaluation_mizuRoute_Hanasaki.ipynb): evaluation with observations from the ResOpsUS dataset of Steyaert et al., 2022"
   ]
  },
  {
   "cell_type": "markdown",
   "id": "3ddba301-55ad-47d5-88d8-17bfe50ad41f",
   "metadata": {
    "tags": []
   },
   "source": [
    "#### 2.2.2 Runoff evaluation \n",
    "\n",
    "- [pp_clm_evaluate_runoff_paperplot.ipynb](analysis/pp_clm_evaluate_runoff_paperplot.ipynb): evaluation of CTSM runoff with GRUN (maps)"
   ]
  },
  {
   "cell_type": "markdown",
   "id": "cbd7975e-ef98-4581-89bc-b3f0aa30c962",
   "metadata": {
    "tags": []
   },
   "source": [
    "#### 2.2.3 Global evaluation with GSIM stream indices\n",
    "\n",
    "- [pp_gsim_processing_paper.ipynb](analysis/pp_gsim_processing_paper.ipynb): processing script loading obs and calculating metrics (saving as dict)\n",
    "- [pp_gsim_plotting.ipynb](analysis/pp_gsim_processing_paper.ipynb): plotting script loading saved dict and producing maps"
   ]
  },
  {
   "cell_type": "markdown",
   "id": "5e774e9f-b86f-4f3c-9d93-1f608a66d791",
   "metadata": {},
   "source": [
    "\n"
   ]
  }
 ],
 "metadata": {
  "kernelspec": {
   "display_name": "Python [conda env:miniconda-ctsm]",
   "language": "python",
   "name": "conda-env-miniconda-ctsm-py"
  },
  "language_info": {
   "codemirror_mode": {
    "name": "ipython",
    "version": 3
   },
   "file_extension": ".py",
   "mimetype": "text/x-python",
   "name": "python",
   "nbconvert_exporter": "python",
   "pygments_lexer": "ipython3",
   "version": "3.7.7"
  }
 },
 "nbformat": 4,
 "nbformat_minor": 5
}
